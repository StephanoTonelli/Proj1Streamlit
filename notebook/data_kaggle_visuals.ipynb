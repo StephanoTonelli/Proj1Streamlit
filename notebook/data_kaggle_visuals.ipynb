{
 "cells": [
  {
   "cell_type": "code",
   "execution_count": null,
   "metadata": {},
   "outputs": [],
   "source": [
    "import pandas as pd\n",
    "import numpy as np\n",
    "import pyspark as spark\n",
    "import seaborn as sns\n",
    "from scipy.stats import pearsonr\n",
    "import matplotlib.pyplot as plt\n",
    "from scipy import stats\n",
    "\n",
    "auth = r\"D:\\DocumentsSte\\VSCode\\Proj1Streamlit\\resources\\car_prices.csv\"\n",
    "\n",
    "df = pd.read_csv(auth)\n",
    "\n",
    "df = df.dropna()\n",
    "df = df.drop_duplicates()\n",
    "\n",
    "df.head()"
   ]
  },
  {
   "cell_type": "markdown",
   "metadata": {},
   "source": [
    "- Best selling brand  -> **Best_Brand**"
   ]
  },
  {
   "cell_type": "code",
   "execution_count": null,
   "metadata": {},
   "outputs": [],
   "source": [
    "##Best_Brand\n",
    "\n",
    "df_make_value = df.groupby([\"make\"])[['sellingprice']].agg(['mean','sum','std'])\n",
    "\n",
    "df_make_volume = df.groupby([\"make\"])[['vin']].agg(['count'])\n",
    "\n",
    "top_brand_value = df_make_value['sellingprice']['sum'].idxmax()\n",
    "top_sales_value = df_make_value['sellingprice']['sum'].max()\n",
    "\n",
    "top_brand_volume = df_make_volume['vin']['count'].idxmax()\n",
    "top_sales_volume = df_make_volume['vin']['count'].max()\n",
    "\n",
    "print(f\"Highest selling brand: {top_brand_value} with total sales: ${top_sales_value:,.2f} and total sold vehicles: {top_sales_volume:,.2f}\")\n",
    "\n"
   ]
  },
  {
   "cell_type": "markdown",
   "metadata": {},
   "source": [
    "- Best selling model in the brand  -> **Best_Model**"
   ]
  },
  {
   "cell_type": "code",
   "execution_count": null,
   "metadata": {},
   "outputs": [],
   "source": [
    "df_make_value = df.groupby([\"make\",\"model\"])[['sellingprice']].agg(['mean','sum','std'])\n",
    "\n",
    "df_make_volume = df.groupby([\"make\",\"model\"])[['vin']].agg(['count'])\n",
    "\n",
    "top_brand_value = df_make_value['sellingprice']['sum'].idxmax()[0] + \" \" + df_make_value['sellingprice']['sum'].idxmax()[1]\n",
    "top_sales_value = df_make_value['sellingprice']['sum'].max()\n",
    "\n",
    "top_brand_volume = df_make_volume['vin']['count'].idxmax()[0] + \" \" + df_make_volume['vin']['count'].idxmax()[1]\n",
    "top_sales_volume = df_make_volume['vin']['count'].max()\n",
    "\n",
    "print(f\"Highest selling brand/model: {top_brand_value} with total sales: ${top_sales_value:,.2f}\")\n",
    "\n",
    "print(f\"Highest selling brand/model: {top_brand_volume} with total sold vehicles: {top_sales_volume:,.2f}\")"
   ]
  },
  {
   "cell_type": "markdown",
   "metadata": {},
   "source": [
    "- best selling brand in body type  -> **Best_Brand_Body_Type**"
   ]
  },
  {
   "cell_type": "code",
   "execution_count": null,
   "metadata": {},
   "outputs": [],
   "source": [
    "# group by body and make and get the sum of sellingprice\n",
    "df_body_make_value = df.groupby([\"body\",\"make\"])[['sellingprice']].agg(['sum'])\n",
    "\n",
    "# get the id of the max selling price for each body type\n",
    "# apply(lambda x: x[1]) gets a element of a list or tuple in case of x[0] is the first element of the tuple\n",
    "max_sales_per_body1 = df_body_make_value['sellingprice']['sum'].groupby(\"body\").idxmax().apply(lambda x: x[1])\n",
    "\n",
    "# get the max selling price for each body type\n",
    "max_sales_per_body2 = df_body_make_value['sellingprice']['sum'].groupby(\"body\").max()\n",
    "\n",
    "max_sales_per_body = pd.merge(max_sales_per_body1, max_sales_per_body2, left_index=True, right_index=True)\n",
    "\n",
    "#change name of columns\n",
    "max_sales_per_body.rename(columns={'sum_x': 'Make','sum_y': 'Total_SellingPrice'}, inplace=True)\n",
    "\n",
    "max_sales_per_body\n",
    "\n",
    "# plot Columns chart"
   ]
  },
  {
   "cell_type": "markdown",
   "metadata": {},
   "source": [
    "- best selling model in body type  -> **Best_Model_Body_Type**"
   ]
  },
  {
   "cell_type": "code",
   "execution_count": null,
   "metadata": {},
   "outputs": [],
   "source": [
    "# group by body, make and model and get the sum of sellingprice\n",
    "df_body_model_value = df.groupby([\"body\",\"make\",\"model\"])[['sellingprice']].agg(['sum'])\n",
    "\n",
    "# get the id of the max selling price for each body type\n",
    "# apply(lambda x: x[1]) gets a element of a list or tuple in case of x[0] is the first element of the tuple\n",
    "max_sales_body_model1 = df_body_model_value['sellingprice']['sum'].groupby(\"body\").idxmax().apply(lambda x: x[1]+' / '+x[2])\n",
    "\n",
    "# get the max selling price for each body type\n",
    "max_sales_body_model2 = df_body_model_value['sellingprice']['sum'].groupby(\"body\").max()\n",
    "\n",
    "max_sales_body_model = pd.merge(max_sales_body_model1, max_sales_body_model2, left_index=True, right_index=True)\n",
    "\n",
    "#change name of columns\n",
    "max_sales_body_model.rename(columns={'sum_x': 'Model','sum_y': 'Total_SellingPrice'}, inplace=True)\n",
    "\n",
    "max_sales_body_model\n",
    "\n",
    "# plot Columns chart"
   ]
  },
  {
   "cell_type": "code",
   "execution_count": null,
   "metadata": {},
   "outputs": [],
   "source": [
    "make_filtered = {'Volvo','BMW'}\n",
    "\n",
    "# Filter DataFrame if at least one category is selected\n",
    "if make_filtered:\n",
    "    filtered_df = df[df['make'].isin(make_filtered)]\n",
    "else:\n",
    "    filtered_df = df  # Show all data if no selection\n",
    "\n",
    "filtered_df"
   ]
  },
  {
   "cell_type": "markdown",
   "metadata": {},
   "source": [
    "- Best seller  -> **Best_Seller**"
   ]
  },
  {
   "cell_type": "code",
   "execution_count": null,
   "metadata": {},
   "outputs": [],
   "source": [
    "# group by body and make and get the sum of sellingprice\n",
    "df_seller_value = df.groupby([\"seller\"])[['sellingprice']].agg(['sum'])\n",
    "\n",
    "df_seller_value1 = df.groupby(\"seller\")[[\"sellingprice\"]].sum().sort_values(by=\"sellingprice\", ascending=False)\n",
    "\n",
    "df_seller_value1\n",
    "# plot the bar graph"
   ]
  },
  {
   "cell_type": "markdown",
   "metadata": {},
   "source": [
    "- selling trend of the best model over the years  -> **Best_Model_Trend**"
   ]
  },
  {
   "cell_type": "code",
   "execution_count": null,
   "metadata": {},
   "outputs": [],
   "source": [
    "df_best_selling_model_value = df.groupby([\"body\",\"make\",\"model\",\"year\"])[[\"year\",\"sellingprice\"]].agg(['mean',\"sum\"])\n",
    "# Flatten the MultiIndex columns\n",
    "df_best_selling_model_value.columns = ['_'.join(col).strip() for col in df_best_selling_model_value.columns]\n",
    "\n",
    "df_best_selling_model_value1 = df.groupby([\"body\",\"make\",\"model\"])[[\"sellingprice\"]].sum()\n",
    "\n",
    "#.rename(columns={'sellingprice_x': 'Total Sales Model','sellingprice_y': 'Year Sales Model'}, inplace=True)\n",
    "#.sort_values(by=[\"Total Sales Model\"],ascending=False)\n",
    "\n",
    "\n",
    "df_best_selling_model = df_best_selling_model_value.merge(df_best_selling_model_value1, on=[\"body\",\"make\",\"model\"])\n",
    "\n",
    "df_best_selling_model = df_best_selling_model.drop(['year_sum', 'sellingprice_mean',], axis=1)\n",
    "\n",
    "df_best_selling_model.rename(columns={'year_mean': 'Year','sellingprice': 'Total Sales Model','sellingprice_sum': 'Year Sales Model'}, inplace=True)\n",
    "\n",
    "df_best_selling_model.sort_values(by=[\"Total Sales Model\",\"Year\"],ascending=[False ,False])\n",
    "\n",
    "df_best_selling_model\n",
    "\n"
   ]
  },
  {
   "cell_type": "markdown",
   "metadata": {},
   "source": [
    "- average price of the model selected and distribution of the prices - with average of mmr -> **Average_Price_Distribution**"
   ]
  },
  {
   "cell_type": "code",
   "execution_count": null,
   "metadata": {},
   "outputs": [],
   "source": [
    "df1 = df\n",
    "\n",
    "# Convert to datetime format\n",
    "df1['saledate'] = pd.to_datetime(df1['saledate'], errors='coerce')\n",
    "\n",
    "# Extract only the date part (YYYY-MM-DD)\n",
    "df1['saledate'] = df1['saledate'].dt.date\n",
    "\n",
    "# calculates the average of the \"Selling Price\" and \"mmr\" columns for each unique value in the \"saledate\" column\n",
    "df1 = df1.groupby('saledate').agg({'sellingprice': 'mean', 'mmr': 'mean'}).reset_index()\n",
    "\n",
    "df1"
   ]
  },
  {
   "cell_type": "markdown",
   "metadata": {},
   "source": [
    "- distribution of prices by brand and by category -> **Price_Distribution_Brand_Category**"
   ]
  },
  {
   "cell_type": "code",
   "execution_count": null,
   "metadata": {},
   "outputs": [],
   "source": [
    "df2 = df\n",
    "\n",
    "# calculates the average of the \"Selling Price\" and \"mmr\" columns for each unique value in the \"saledate\" column\n",
    "df2 = df2.groupby(['make','body',]).agg({'sellingprice': 'mean'}).reset_index()\n",
    "\n",
    "df2 = df2.nlargest(25, 'sellingprice')\n",
    "\n",
    "# Create a Seaborn scatter plot\n",
    "fig, ax = plt.subplots()\n",
    "sns.scatterplot(x=df2['body'], y=df2['sellingprice'], hue=df2['make'], palette=\"coolwarm\", ax=ax)\n",
    "ax.set_title(\"Seaborn Scatter Plot\")\n",
    "\n",
    "# # Display in Streamlit\n",
    "# st.pyplot(fig)\n"
   ]
  },
  {
   "cell_type": "markdown",
   "metadata": {},
   "source": [
    "- seasonal prices for each model -> **Seasonal_Prices**"
   ]
  },
  {
   "cell_type": "code",
   "execution_count": null,
   "metadata": {},
   "outputs": [],
   "source": [
    "df3 = df\n",
    "\n",
    "# Convert to datetime format\n",
    "df3['saledate'] = pd.to_datetime(df3['saledate'], errors='coerce')\n",
    "\n",
    "# Extract only the date part (YYYY-MM-DD)\n",
    "df3['Year_month'] = df3['saledate'].dt.strftime('%Y-%m')\n",
    "\n",
    "df3.sort_values(by=[\"saledate\"],ascending=[True])\n",
    "\n",
    "df3 = df3.dropna(subset=['saledate'])\n",
    "\n",
    "\n",
    "df3 = df3.groupby(['Year_month',\"model\"]).agg({'sellingprice': 'mean'}).reset_index()\n",
    "\n",
    "df3_top5 = df3.nlargest(10, 'sellingprice')\n",
    "\n",
    "df3 = df3[df3[\"model\"].isin(df3_top5[\"model\"])]\n",
    "\n",
    "df3.sort_values(by=[\"Year_month\"],ascending=[True])\n",
    "\n",
    "# create a seaborn line plot\n",
    "\n",
    "fig2, ax = plt.subplots()\n",
    "\n",
    "sns.lineplot(x=\"Year_month\", y=\"sellingprice\", hue=\"model\" ,data=df3)\n",
    "\n"
   ]
  },
  {
   "cell_type": "markdown",
   "metadata": {},
   "source": [
    "- seasonal number of sales per make -> **Seasonal_Sales**"
   ]
  },
  {
   "cell_type": "code",
   "execution_count": null,
   "metadata": {},
   "outputs": [],
   "source": [
    "df4 = df\n",
    "\n",
    "# Convert to datetime format\n",
    "df4['saledate'] = pd.to_datetime(df4['saledate'], errors='coerce')\n",
    "\n",
    "# Extract only the date part (YYYY-MM-DD)\n",
    "df4['Year_month'] = df4['saledate'].dt.strftime('%Y-%m')\n",
    "\n",
    "df4.sort_values(by=[\"saledate\"],ascending=[True])\n",
    "\n",
    "df4 = df4.dropna(subset=['saledate'])\n",
    "\n",
    "\n",
    "df4 = df4.groupby(['Year_month',\"make\"]).agg({'vin': 'count'}).reset_index()\n",
    "\n",
    "df4_top = df4.nlargest(15, 'vin')\n",
    "\n",
    "df4 = df4[df4[\"make\"].isin(df4_top[\"make\"])]\n",
    "\n",
    "df4.sort_values(by=[\"Year_month\"],ascending=[True])\n",
    "\n",
    "# create a seaborn line plot\n",
    "\n",
    "fig2, ax = plt.subplots()\n",
    "\n",
    "sns.lineplot(x=\"Year_month\", y=\"vin\", hue=\"make\" ,data=df4)\n"
   ]
  },
  {
   "cell_type": "markdown",
   "metadata": {},
   "source": [
    "\n",
    "- correlation of odometer and price -> **odometer_price_correlation**"
   ]
  },
  {
   "cell_type": "code",
   "execution_count": null,
   "metadata": {},
   "outputs": [],
   "source": [
    "df5 = df\n",
    "\n",
    "df5 = df5.dropna(subset=['odometer', 'sellingprice'])\n",
    "\n",
    "# Drop NaN values and ensure positive odometer values (log is undefined for non-positive values)\n",
    "df5 = df5.dropna(subset=['odometer', 'sellingprice'])\n",
    "df5 = df5[df5['odometer'] > 0]  # Ensure positive values for log transformation\n",
    "\n",
    "# Apply logarithm transformation to odometer\n",
    "df5['log_odometer'] = np.log(df5['odometer'])\n",
    "\n",
    "# Perform linear regression: sellingprice = a + b * log(odometer)\n",
    "b, a, r_value, p_value, std_err = stats.linregress(df5['log_odometer'], df5['sellingprice'])\n",
    "\n",
    "# Define the logarithmic function\n",
    "def log_func(x):\n",
    "    return a + b * np.log(x)\n",
    "\n",
    "# Generate trendline values\n",
    "x_vals = np.linspace(df5['odometer'].min(), df5['odometer'].max(), 100)\n",
    "y_vals = log_func(x_vals)\n",
    "\n",
    "# --------------------------------------\n",
    "\n",
    "# Create scatter plot\n",
    "fig, ax = plt.subplots(figsize=(10, 6))\n",
    "sns.scatterplot(x=df5['odometer'], y=df5['sellingprice'], palette=\"coolwarm\", ax=ax)\n",
    "\n",
    "# Plot logarithmic trend curve\n",
    "plt.plot(x_vals, y_vals, color='red', label='Logarithmic Trendline')\n",
    "\n",
    "# Display the logarithmic equation\n",
    "equation_text = f\"y = {intercept:.2f} + {slope:.2f} * ln(x)\"\n",
    "plt.text(0.05, 0.95, equation_text, transform=ax.transAxes, fontsize=12, verticalalignment='top', bbox=dict(facecolor='white', alpha=0.5))\n",
    "\n",
    "# Labels and legend\n",
    "ax.set_title(\"Odometer vs Selling Price with Logarithmic Trendline\")\n",
    "ax.set_xlabel(\"Odometer (km)\")\n",
    "ax.set_ylabel(\"Selling Price ($)\")\n",
    "plt.legend()\n",
    "plt.show()\n",
    "\n",
    "# Print equation details\n",
    "print(f\"Equation of the logarithmic curve: y = {intercept:.2f} + {slope:.2f} * ln(x)\")\n",
    "print(f\"R-squared value: {r_value**2:.4f}\")  # Goodness of fit measure\n"
   ]
  },
  {
   "cell_type": "markdown",
   "metadata": {},
   "source": [
    "- correlation of color and price -> **color_price_correlation**"
   ]
  },
  {
   "cell_type": "code",
   "execution_count": null,
   "metadata": {},
   "outputs": [],
   "source": [
    "df6 = df\n",
    "\n",
    "df6 = df6.dropna(subset=[\"sellingprice\"])\n",
    "\n",
    "q1 = df6[\"sellingprice\"].quantile(0.25)\n",
    "q3 = df6[\"sellingprice\"].quantile(0.75)\n",
    "\n",
    "iqr = q3 - q1\n",
    "\n",
    "lower_bound = q1 - 1.5 * iqr\n",
    "upper_bound = q3 + 1.5 * iqr\n",
    "\n",
    "df6 = df6[(df6[\"sellingprice\"] >= lower_bound) & (df6[\"sellingprice\"] <= upper_bound)]\n",
    "\n",
    "# Calculate median selling price for each color and sort in descending order\n",
    "median_order6 = df6.groupby(\"color\")[\"sellingprice\"].median().sort_values(ascending=False).index\n",
    "\n",
    "# Create a Seaborn Box Plot\n",
    "fig, ax = plt.subplots(figsize=(12, 6))\n",
    "sns.boxplot(x=df6[\"color\"], y=df6[\"sellingprice\"], order=median_order6, data=df6)  # Box plot\n",
    "ax.set_title(\"Boxplot of Selling Price by Color\")\n",
    "ax.set_xlabel(\"Color\")\n",
    "ax.set_ylabel(\"Selling Price ($)\")\n",
    "plt.xticks(rotation=90) # Rotate x-axis labels vertically\n",
    "plt.legend()\n",
    "plt.show()\n",
    "\n",
    "\n",
    "# # Display in Streamlit\n",
    "# st.pyplot(fig)\n"
   ]
  },
  {
   "cell_type": "markdown",
   "metadata": {},
   "source": [
    "- correlation of transmission and price - compare means -> **transmission_price_correlation**"
   ]
  },
  {
   "cell_type": "code",
   "execution_count": null,
   "metadata": {},
   "outputs": [],
   "source": [
    "df7 = df\n",
    "\n",
    "df7 = df7.dropna(subset=[\"sellingprice\"])\n",
    "\n",
    "q1 = df7[\"sellingprice\"].quantile(0.25)\n",
    "q3 = df7[\"sellingprice\"].quantile(0.75)\n",
    "\n",
    "iqr = q3 - q1\n",
    "\n",
    "lower_bound = q1 - 1.5 * iqr\n",
    "upper_bound = q3 + 1.5 * iqr\n",
    "\n",
    "df7 = df7[(df7[\"sellingprice\"] >= lower_bound) & (df7[\"sellingprice\"] <= upper_bound)]\n",
    "\n",
    "median_order7 = df7.groupby(\"transmission\")[\"sellingprice\"].median().sort_values(ascending=False).index\n",
    "\n",
    "# Create a Seaborn Box Plot\n",
    "fig, ax = plt.subplots(figsize=(12, 6))\n",
    "sns.boxplot(x=df7[\"transmission\"], y=df7[\"sellingprice\"],order=median_order7, data=df7)  # Box plot\n",
    "ax.set_title(\"Boxplot of Selling Price by Transmission\")\n",
    "ax.set_xlabel(\"Transmission\")\n",
    "ax.set_ylabel(\"Selling Price ($)\")\n",
    "plt.xticks(rotation=90) # Rotate x-axis labels vertically\n",
    "plt.legend()\n",
    "plt.show()\n",
    "\n",
    "\n",
    "# # Display in Streamlit\n",
    "# st.pyplot(fig)\n"
   ]
  },
  {
   "cell_type": "markdown",
   "metadata": {},
   "source": [
    "- correlation of condition and price -> **condition_price_correlation**"
   ]
  },
  {
   "cell_type": "code",
   "execution_count": null,
   "metadata": {},
   "outputs": [],
   "source": [
    "df8 = df\n",
    "\n",
    "# Drop NaN values and ensure positive odometer values (log is undefined for non-positive values)\n",
    "df8 = df8.dropna(subset=['condition', 'sellingprice'])\n",
    "df8 = df8[df8['condition'] > 0]  # Ensure positive values for log transformation\n",
    "\n",
    "# Perform linear regression: sellingprice = a + b * condition\n",
    "b, a, r_value, p_value, std_err = stats.linregress(df8['condition'], df8['sellingprice'])\n",
    "\n",
    "# Define the logarithmic function\n",
    "def func(x):\n",
    "    return a + b * x\n",
    "\n",
    "# Generate trendline values\n",
    "df8_x_vals = np.linspace(df8['condition'].min(), df8['condition'].max(), 100)\n",
    "df8_y_vals = func(df8_x_vals)\n",
    "\n",
    "# Create scatter plot\n",
    "fig, ax = plt.subplots(figsize=(10, 6))\n",
    "sns.scatterplot(x=df8['condition'], y=df8['sellingprice'], palette=\"coolwarm\", ax=ax)\n",
    "\n",
    "# Plot logarithmic trend curve\n",
    "plt.plot(df8_x_vals, df8_y_vals, color='red', label='Trendline')\n",
    "\n",
    "# Display the logarithmic equation\n",
    "equation_text = f\"y = {b:.2f} + {a:.2f} * x\"\n",
    "plt.text(0.05, 0.95, equation_text, transform=ax.transAxes, fontsize=12, verticalalignment='top', bbox=dict(facecolor='white', alpha=0.5))\n",
    "\n",
    "# Labels and legend\n",
    "ax.set_title(\"Condition vs Selling Price with Logarithmic Trendline\")\n",
    "ax.set_xlabel(\"Condition\")\n",
    "ax.set_ylabel(\"Selling Price ($)\")\n",
    "plt.legend()\n",
    "plt.show()\n",
    "\n",
    "# Print equation details\n",
    "print(f\"Equation of the logarithmic curve: y = {b:.2f} + {a:.2f} * x\")\n",
    "print(f\"R-squared value: {r_value**2:.4f}\")  # Goodness of fit measure\n",
    "\n"
   ]
  }
 ],
 "metadata": {
  "kernelspec": {
   "display_name": "env",
   "language": "python",
   "name": "python3"
  },
  "language_info": {
   "codemirror_mode": {
    "name": "ipython",
    "version": 3
   },
   "file_extension": ".py",
   "mimetype": "text/x-python",
   "name": "python",
   "nbconvert_exporter": "python",
   "pygments_lexer": "ipython3",
   "version": "3.12.0"
  }
 },
 "nbformat": 4,
 "nbformat_minor": 2
}
